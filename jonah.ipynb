{
 "cells": [
  {
   "cell_type": "code",
   "execution_count": null,
   "metadata": {},
   "outputs": [],
   "source": [
    "import pandas as pd\n",
    "import matplotlib.pyplot as plt\n",
    "import seaborn as sns\n",
    "from sklearn.linear_model import LogisticRegression\n",
    "from sklearn.preprocessing import LabelEncoder\n",
    "from sklearn.metrics import precision_recall_fscore_support\n",
    "import numpy as np\n",
    "from sklearn import svm\n",
    "import random"
   ]
  },
  {
   "cell_type": "code",
   "execution_count": null,
   "metadata": {},
   "outputs": [],
   "source": [
    "df = pd.read_csv('core/music_features.csv')"
   ]
  },
  {
   "cell_type": "code",
   "execution_count": null,
   "metadata": {},
   "outputs": [],
   "source": [
    "print(df.isnull().sum())"
   ]
  },
  {
   "cell_type": "code",
   "execution_count": null,
   "metadata": {},
   "outputs": [],
   "source": [
    "label_encoder = LabelEncoder()\n",
    "df['label_encoded'] = label_encoder.fit_transform(df['label'])\n",
    "label_mapping = dict(zip(label_encoder.transform(label_encoder.classes_), label_encoder.classes_))\n",
    "print(\"Label mapping:\", label_mapping)"
   ]
  },
  {
   "cell_type": "code",
   "execution_count": null,
   "metadata": {},
   "outputs": [],
   "source": [
    "# data_for_corr = df.drop(columns=['filename', 'label'])\n",
    "\n",
    "# corr_matrix = data_for_corr.corr()\n",
    "\n",
    "# plt.figure(figsize=(15, 10))\n",
    "# sns.heatmap(corr_matrix, annot=False, cmap='coolwarm', linewidths=0.5)\n",
    "# plt.title('Correlation Matrix of Music Features')\n",
    "# plt.show()"
   ]
  },
  {
   "cell_type": "code",
   "execution_count": null,
   "metadata": {},
   "outputs": [],
   "source": [
    "# plt.figure(figsize=(8, 6))\n",
    "# sns.scatterplot(data=df, x='spectral_centroid', y='spectral_bandwidth', hue='label')\n",
    "# plt.title('Spectral Centroid vs Spectral Bandwidth')\n",
    "# plt.show()"
   ]
  },
  {
   "cell_type": "code",
   "execution_count": null,
   "metadata": {},
   "outputs": [],
   "source": [
    "# plt.figure(figsize=(10, 6))\n",
    "# sns.boxplot(data=df, x='label', y='mfcc1')\n",
    "# plt.title('Distribution of MFCC1 by Genre')\n",
    "# plt.xticks(rotation=90)\n",
    "# plt.show()"
   ]
  },
  {
   "cell_type": "code",
   "execution_count": null,
   "metadata": {},
   "outputs": [],
   "source": [
    "# selected_features = ['tempo', 'chroma_stft', 'rmse', 'spectral_centroid', 'spectral_bandwidth', 'label']\n",
    "# sns.pairplot(df[selected_features], hue='label', palette='Set2')\n",
    "# plt.show()"
   ]
  },
  {
   "cell_type": "code",
   "execution_count": null,
   "metadata": {},
   "outputs": [],
   "source": [
    "features_to_standardize = [\n",
    "    'tempo', 'chroma_stft', 'rmse', 'spectral_centroid', \n",
    "    'spectral_bandwidth', 'rolloff', 'zero_crossing_rate'\n",
    "] + [f'mfcc{i}' for i in range(1, 21)]\n",
    "\n",
    "for feature in features_to_standardize:\n",
    "    df[feature] = (df[feature] - df[feature].mean()) / df[feature].std()"
   ]
  },
  {
   "cell_type": "code",
   "execution_count": null,
   "metadata": {},
   "outputs": [],
   "source": [
    "X = df[['tempo', 'chroma_stft', 'rmse', 'spectral_centroid', 'spectral_bandwidth', 'rolloff'] + \n",
    "       [f'mfcc{i}' for i in range(1, 21)]]\n",
    "y = df['label_encoded']\n",
    "\n",
    "lm = LogisticRegression(class_weight='balanced', multi_class='multinomial', max_iter=1000)\n",
    "lm.fit(X, y)\n",
    "\n",
    "# print(\"Intercept:\", lm.intercept_)\n",
    "# print(\"Coefficients:\", lm.coef_)\n",
    "\n",
    "y_pred = lm.predict(X)\n",
    "\n",
    "# print(\"Predicted Labels:\", y_pred)\n",
    "\n",
    "# print('Predicted classes:', np.unique(y_pred))\n",
    "\n",
    "print(\"Logistic Results\")\n",
    "p, r, f, s = precision_recall_fscore_support(y, y_pred, labels=np.unique(y))\n",
    "for label, genre in label_mapping.items():\n",
    "    print(f\"Genre: {genre}\")\n",
    "    print(f\"  Precision: {p[label]:.4f}\")\n",
    "    print(f\"  Recall: {r[label]:.4f}\")\n",
    "    print(f\"  F-score: {f[label]:.4f}\")\n",
    "    print(f\"  Support: {s[label]}\")"
   ]
  },
  {
   "cell_type": "code",
   "execution_count": null,
   "metadata": {},
   "outputs": [],
   "source": [
    "# colors = ['r', 'b', 'g', 'c', 'm', 'y', 'k', 'orange', 'purple', 'pink']\n",
    "# color_map = [colors[label] for label in y]\n",
    "\n",
    "# plt.figure(figsize=(10, 6))\n",
    "# plt.scatter(df['spectral_centroid'], df['spectral_bandwidth'], c=color_map, s=3)\n",
    "# plt.xlabel('Spectral Centroid')\n",
    "# plt.ylabel('Spectral Bandwidth')\n",
    "# plt.title('Scatter Plot of Spectral Centroid vs Spectral Bandwidth, Colored by Genre')\n",
    "# plt.show()"
   ]
  },
  {
   "cell_type": "code",
   "execution_count": null,
   "metadata": {},
   "outputs": [],
   "source": [
    "X = df[['tempo', 'chroma_stft', 'rmse', 'spectral_centroid', 'spectral_bandwidth', 'rolloff'] + \n",
    "       [f'mfcc{i}' for i in range(1, 21)]]\n",
    "y = df['label_encoded']\n",
    "\n",
    "clf = svm.SVC(kernel='linear', class_weight='balanced')\n",
    "clf.fit(X, y)\n",
    "\n",
    "y_pred = clf.predict(X)\n",
    "\n",
    "print(\"SVM - Linear Results\")\n",
    "p, r, f, s = precision_recall_fscore_support(y, y_pred, labels=np.unique(y))\n",
    "for label, genre in label_mapping.items():\n",
    "    print(f\"Genre: {genre}\")\n",
    "    print(f\"  Precision: {p[label]:.4f}\")\n",
    "    print(f\"  Recall: {r[label]:.4f}\")\n",
    "    print(f\"  F-score: {f[label]:.4f}\")\n",
    "    print(f\"  Support: {s[label]}\")"
   ]
  },
  {
   "cell_type": "code",
   "execution_count": null,
   "metadata": {},
   "outputs": [],
   "source": [
    "\n",
    "X = df[['tempo', 'chroma_stft', 'rmse', 'spectral_centroid', 'spectral_bandwidth', 'rolloff'] + \n",
    "       [f'mfcc{i}' for i in range(1, 21)]]\n",
    "y = df['label_encoded']\n",
    "\n",
    "clf = svm.SVC(kernel='rbf', class_weight='balanced')\n",
    "clf.fit(X.values, y)\n",
    "\n",
    "y_pred = clf.predict(X)\n",
    "p, r, f, s = precision_recall_fscore_support(y, y_pred, labels=np.unique(y))\n",
    "print(\"SVM - RBF Results Balanced Weights:\")\n",
    "for label, genre in label_mapping.items():\n",
    "    print(f\"Genre: {genre}\")\n",
    "    print(f\"  Precision: {p[label]:.4f}\")\n",
    "    print(f\"  Recall: {r[label]:.4f}\")\n",
    "    print(f\"  F-score: {f[label]:.4f}\")\n",
    "    print(f\"  Support: {s[label]}\")\n"
   ]
  },
  {
   "cell_type": "code",
   "execution_count": null,
   "metadata": {},
   "outputs": [],
   "source": [
    "X = df[['tempo', 'chroma_stft', 'rmse', 'spectral_centroid', 'spectral_bandwidth', 'rolloff'] + \n",
    "       [f'mfcc{i}' for i in range(1, 21)]]\n",
    "y = df['label_encoded']\n",
    "\n",
    "# Label mapping: {0: 'blues', 1: 'classical', 2: 'country', 3: 'disco', 4: 'hiphop', 5: 'jazz', 6: 'metal', 7: 'pop', 8: 'reggae', 9: 'rock'}\n",
    "custom_weights = {0: 1, 1: 1, 2: 1, 3: 1, 4: 1, 5: 1, 6: 1, 7: 1, 8: 2, 9: 2}\n",
    "\n",
    "clf = svm.SVC(kernel='rbf', class_weight=custom_weights)\n",
    "clf.fit(X.values, y)\n",
    "\n",
    "y_pred = clf.predict(X)\n",
    "p, r, f, s = precision_recall_fscore_support(y, y_pred, labels=np.unique(y))\n",
    "print(\"SVM - RBF Results with custom weights:\")\n",
    "for label, genre in label_mapping.items():\n",
    "    print(f\"Genre: {genre}\")\n",
    "    print(f\"  Precision: {p[label]:.4f}\")\n",
    "    print(f\"  Recall: {r[label]:.4f}\")\n",
    "    print(f\"  F-score: {f[label]:.4f}\")\n",
    "    print(f\"  Support: {s[label]}\")"
   ]
  },
  {
   "cell_type": "code",
   "execution_count": null,
   "metadata": {},
   "outputs": [],
   "source": []
  }
 ],
 "metadata": {
  "kernelspec": {
   "display_name": "base",
   "language": "python",
   "name": "python3"
  },
  "language_info": {
   "codemirror_mode": {
    "name": "ipython",
    "version": 3
   },
   "file_extension": ".py",
   "mimetype": "text/x-python",
   "name": "python",
   "nbconvert_exporter": "python",
   "pygments_lexer": "ipython3",
   "version": "3.12.4"
  }
 },
 "nbformat": 4,
 "nbformat_minor": 2
}
